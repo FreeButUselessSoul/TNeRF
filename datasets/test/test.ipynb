{
 "cells": [
  {
   "cell_type": "code",
   "execution_count": 1,
   "metadata": {},
   "outputs": [],
   "source": [
    "import piq\n",
    "import torch\n",
    "from PIL import Image\n",
    "import numpy as np\n",
    "import torchvision.transforms as T\n",
    "from matplotlib import pyplot as plt"
   ]
  },
  {
   "cell_type": "code",
   "execution_count": 8,
   "metadata": {},
   "outputs": [
    {
     "name": "stdout",
     "output_type": "stream",
     "text": [
      "box\n",
      "PSNR=15.118956565856934, SSIM=0.520203173160553, LPIPS=0.5820313692092896\n",
      "sofa\n",
      "PSNR=21.191537857055664, SSIM=0.8379666805267334, LPIPS=0.31190162897109985\n",
      "mean_P=18.1552472114563, S=0.6790849268436432, L=0.4469664990901947\n"
     ]
    }
   ],
   "source": [
    "psnrs,ssims,lpipss=[],[],[]\n",
    "for name in ['box','sofa']:\n",
    "    mvs = Image.open('./RR_MVS_'+name+'.png').convert('RGB')\n",
    "    gt = Image.open('./gt_'+name+'.png').convert('RGB')\n",
    "    gt = gt.resize(mvs.size)\n",
    "    gt = T.ToTensor()(gt).unsqueeze(0)\n",
    "    mvs = T.ToTensor()(mvs).unsqueeze(0)\n",
    "    psnr = piq.psnr(mvs,gt).item()\n",
    "    ssim = piq.ssim(mvs,gt).item()\n",
    "    lpips = piq.LPIPS(reduction='none')(mvs,gt).item()\n",
    "    psnrs+=[psnr];ssims+=[ssim];lpipss+=[lpips]\n",
    "    print(name)\n",
    "    print(f'PSNR={psnr}, SSIM={ssim}, LPIPS={lpips}')\n",
    "print(f'mean_P={np.mean(psnrs)}, S={np.mean(ssims)}, L={np.mean(lpipss)}')"
   ]
  },
  {
   "cell_type": "code",
   "execution_count": 13,
   "metadata": {},
   "outputs": [
    {
     "data": {
      "text/plain": [
       "torch.Size([3, 640, 960])"
      ]
     },
     "execution_count": 13,
     "metadata": {},
     "output_type": "execute_result"
    }
   ],
   "source": []
  },
  {
   "cell_type": "code",
   "execution_count": null,
   "metadata": {},
   "outputs": [],
   "source": []
  }
 ],
 "metadata": {
  "kernelspec": {
   "display_name": "Python 3.8.12 ('base')",
   "language": "python",
   "name": "python3"
  },
  "language_info": {
   "codemirror_mode": {
    "name": "ipython",
    "version": 3
   },
   "file_extension": ".py",
   "mimetype": "text/x-python",
   "name": "python",
   "nbconvert_exporter": "python",
   "pygments_lexer": "ipython3",
   "version": "3.8.12"
  },
  "orig_nbformat": 4,
  "vscode": {
   "interpreter": {
    "hash": "aefb6a1c159e4cd9bf652c04f1ca4c04abbeb64de268781494b0f2f7cc6710f6"
   }
  }
 },
 "nbformat": 4,
 "nbformat_minor": 2
}
